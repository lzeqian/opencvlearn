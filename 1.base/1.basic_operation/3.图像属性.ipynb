{
 "cells": [
  {
   "cell_type": "code",
   "execution_count": 9,
   "metadata": {
    "collapsed": true,
    "pycharm": {
     "is_executing": false
    }
   },
   "outputs": [
    {
     "name": "stdout",
     "text": [
      "Image shape: (360, 795, 3)\nImage size: 858600\nImage data type: uint8\n"
     ],
     "output_type": "stream"
    }
   ],
   "source": [
    "import cv2\n",
    "img=cv2.imread(\"../images/demo1.png\")\n",
    "# 打印图像形状\n",
    "print('Image shape:', img.shape) #打印垂直像素，水平像素，通道数\n",
    "# 打印图像大小\n",
    "print('Image size:', img.size)\n",
    "# 打印图像数据类型\n",
    "print('Image data type:', img.dtype)"
   ]
  },
  {
   "cell_type": "code",
   "execution_count": 10,
   "outputs": [
    {
     "name": "stdout",
     "text": [
      "Image shape: (360, 795)\nImage size: 286200\nImage data type: uint8\n"
     ],
     "output_type": "stream"
    }
   ],
   "source": [
    "img=cv2.imread(\"../images/demo1.png\",0) #获取灰度图像\n",
    "# 打印图像形状\n",
    "print('Image shape:', img.shape) #打印垂直像素，水平像素，通道数\n",
    "# 打印图像大小\n",
    "print('Image size:', img.size)\n",
    "# 打印图像数据类型\n",
    "print('Image data type:', img.dtype)\n"
   ],
   "metadata": {
    "collapsed": false,
    "pycharm": {
     "name": "#%%\n",
     "is_executing": false
    }
   }
  },
  {
   "cell_type": "code",
   "execution_count": null,
   "outputs": [],
   "source": [
    "\n"
   ],
   "metadata": {
    "collapsed": false,
    "pycharm": {
     "name": "#%%\n"
    }
   }
  }
 ],
 "metadata": {
  "kernelspec": {
   "display_name": "Python 3",
   "language": "python",
   "name": "python3"
  },
  "language_info": {
   "codemirror_mode": {
    "name": "ipython",
    "version": 2
   },
   "file_extension": ".py",
   "mimetype": "text/x-python",
   "name": "python",
   "nbconvert_exporter": "python",
   "pygments_lexer": "ipython2",
   "version": "2.7.6"
  },
  "pycharm": {
   "stem_cell": {
    "cell_type": "raw",
    "source": [],
    "metadata": {
     "collapsed": false
    }
   }
  }
 },
 "nbformat": 4,
 "nbformat_minor": 0
}