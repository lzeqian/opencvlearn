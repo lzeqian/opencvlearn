{
 "cells": [
  {
   "cell_type": "code",
   "execution_count": 4,
   "metadata": {
    "collapsed": true,
    "pycharm": {
     "is_executing": false,
     "name": "#%%\n"
    }
   },
   "outputs": [
    {
     "name": "stdout",
     "text": [
      "[{'text': '公民身份号码', 'score': 0.9785926938056946, 'position': array([[         99,          53],\n       [        125,          52],\n       [        129,         210],\n       [        103,         210]], dtype=float32)}, {'text': '', 'score': 0.35731106996536255, 'position': array([[        109,         205],\n       [        124,         205],\n       [        124,         243],\n       [        109,         243]], dtype=float32)}, {'text': '60下室', 'score': 0.4707816541194916, 'position': array([[        164,         136],\n       [        193,         136],\n       [        193,         239],\n       [        164,         239]], dtype=float32)}, {'text': '住址浙江省金华市婺城区胜利', 'score': 0.7653670310974121, 'position': array([[        234,          61],\n       [        260,          61],\n       [        256,         403],\n       [        231,         403]], dtype=float32)}, {'text': '出生1974年9月6日', 'score': 0.5610541105270386, 'position': array([[        283,          65],\n       [        312,          65],\n       [        309,         352],\n       [        280,         352]], dtype=float32)}, {'text': '性别女民族汉', 'score': 0.7432718873023987, 'position': array([[        330,          67],\n       [        359,          68],\n       [        351,         299],\n       [        322,         298]], dtype=float32)}, {'text': '姓名金佩蓉', 'score': 0.8379217982292175, 'position': array([[        374,          72],\n       [        402,          73],\n       [        399,         238],\n       [        371,         237]], dtype=float32)}, {'text': '330702197409164721', 'score': 0.862530529499054, 'position': array([[        103,         235],\n       [        131,         235],\n       [        131,         579],\n       [        103,         579]], dtype=float32)}, {'text': '街33号A幢1单元', 'score': 0.10753250122070312, 'position': array([[        200,         115],\n       [        226,         115],\n       [        227,         359],\n       [        201,         359]], dtype=float32)}, {'text': '', 'score': 0.3398791551589966, 'position': array([[        226,         506],\n       [        237,         506],\n       [        237,         519],\n       [        226,         519]], dtype=float32)}]\n"
     ],
     "output_type": "stream"
    }
   ],
   "source": [
    "from myutils import common\n",
    "%matplotlib inline\n",
    "import cv2\n",
    "import matplotlib\n",
    "import matplotlib.pyplot as plt\n",
    "import numpy as np\n",
    "from cnocr import CnOcr\n",
    "img_fp = './00003aaaf3174f1d83a379bb88a4cf6d.png'\n",
    "image1=cv2.imread(img_fp)\n",
    "\n",
    "ocr = CnOcr()  # 所有参数都使用默认值\n",
    "out = ocr.ocr(image1)\n",
    "# out = ocr.ocr_for_single_line(image1)\n",
    "print(out)\n",
    "\n"
   ]
  },
  {
   "cell_type": "code",
   "execution_count": 4,
   "outputs": [],
   "source": [
    "\n"
   ],
   "metadata": {
    "collapsed": false,
    "pycharm": {
     "name": "#%%\n",
     "is_executing": false
    }
   }
  }
 ],
 "metadata": {
  "kernelspec": {
   "display_name": "Python 3",
   "language": "python",
   "name": "python3"
  },
  "language_info": {
   "codemirror_mode": {
    "name": "ipython",
    "version": 2
   },
   "file_extension": ".py",
   "mimetype": "text/x-python",
   "name": "python",
   "nbconvert_exporter": "python",
   "pygments_lexer": "ipython2",
   "version": "2.7.6"
  },
  "pycharm": {
   "stem_cell": {
    "cell_type": "raw",
    "source": [],
    "metadata": {
     "collapsed": false
    }
   }
  }
 },
 "nbformat": 4,
 "nbformat_minor": 0
}