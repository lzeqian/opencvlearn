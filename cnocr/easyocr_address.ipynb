{
 "cells": [
  {
   "cell_type": "code",
   "execution_count": 5,
   "metadata": {
    "collapsed": true,
    "pycharm": {
     "is_executing": false,
     "name": "#%%\n"
    }
   },
   "outputs": [
    {
     "name": "stderr",
     "text": [
      "Neither CUDA nor MPS are available - defaulting to CPU. Note: This module is much faster with a GPU.\n"
     ],
     "output_type": "stream"
    },
    {
     "name": "stdout",
     "text": [
      "1.7.0\n",
      "0.033782794655609585\n"
     ],
     "output_type": "stream"
    }
   ],
   "source": [
    "%matplotlib inline\n",
    "import cv2\n",
    "import matplotlib\n",
    "import matplotlib.pyplot as plt\n",
    "import easyocr\n",
    "print(easyocr.__version__)\n",
    "\n",
    "img_fp = './xm.jpg'\n",
    "# image=cv2.imread(img_fp)\n",
    "# grayimage = cv2.cvtColor(image, cv2.COLOR_BGR2GRAY)\n",
    "# _,ostuImg=cv2.threshold(grayimage,0,255,cv2.THRESH_OTSU)\n",
    "# plt.imshow(ostuImg)\n",
    "# plt.title(\"原图\")\n",
    "# plt.show()\n",
    "\n",
    "reader = easyocr.Reader(['ch_sim','en'])\n",
    "img = cv2.imread(img_fp) \n",
    "result = reader.readtext(img)\n",
    "print(result[0][2])\n",
    "\n",
    "\n"
   ]
  }
 ],
 "metadata": {
  "kernelspec": {
   "display_name": "Python 3",
   "language": "python",
   "name": "python3"
  },
  "language_info": {
   "codemirror_mode": {
    "name": "ipython",
    "version": 2
   },
   "file_extension": ".py",
   "mimetype": "text/x-python",
   "name": "python",
   "nbconvert_exporter": "python",
   "pygments_lexer": "ipython2",
   "version": "2.7.6"
  },
  "pycharm": {
   "stem_cell": {
    "cell_type": "raw",
    "source": [],
    "metadata": {
     "collapsed": false
    }
   }
  }
 },
 "nbformat": 4,
 "nbformat_minor": 0
}