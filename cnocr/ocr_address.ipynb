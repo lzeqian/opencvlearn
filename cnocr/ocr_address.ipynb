{
 "cells": [
  {
   "cell_type": "code",
   "execution_count": 1,
   "metadata": {
    "collapsed": true,
    "pycharm": {
     "is_executing": false,
     "name": "#%%\n"
    }
   },
   "outputs": [
    {
     "name": "stderr",
     "text": [
      "[WARNING 2023-06-12 10:20:12,497 _showwarnmsg:110] D:\\code\\opencvlearn\\myutils\\common.py:58: UserWarning: Matplotlib is currently using agg, which is a non-GUI backend, so cannot show the figure.\n  plt.show()\n \n"
     ],
     "output_type": "stream"
    },
    {
     "name": "stdout",
     "text": [
      "[(94, 35), (19, 41), (25, 139), (102, 131)]\n[(19, 41), (25, 139), (94, 35), (102, 131)]\nsort_point [(19, 41), (25, 139), (102, 131), (94, 35)]\n[[         19          41]\n [         25         139]\n [        102         131]\n [         94          35]]\n",
      "{'text': '照文姆', 'score': 0.2974710166454315}\n"
     ],
     "output_type": "stream"
    }
   ],
   "source": [
    "from myutils import common\n",
    "%matplotlib inline\n",
    "import cv2\n",
    "import matplotlib\n",
    "import matplotlib.pyplot as plt\n",
    "import numpy as np\n",
    "from cnocr import CnOcr\n",
    "img_fp = './xm.jpg'\n",
    "image1=cv2.imread(img_fp)\n",
    "image=image1.copy()\n",
    "height, width = image.shape[:2]\n",
    "\n",
    "grayimage = cv2.cvtColor(image, cv2.COLOR_BGR2GRAY)\n",
    "common.show(grayimage,\"原图\",cmap=\"gray\",debug=False)\n",
    "_,ostuImg=cv2.threshold(grayimage,0,255,cv2.THRESH_BINARY_INV+ cv2.THRESH_OTSU)\n",
    "common.show(ostuImg,\"原图\",cmap=\"gray\",debug=False)\n",
    "\n",
    "img_dilated = cv2.dilate(ostuImg,  (400,400), iterations=25)\n",
    "common.show(img_dilated,\"膨胀图\",cmap=\"gray\",debug=True)\n",
    "\n",
    "# 检测轮廓\n",
    "contours, hierarchy = cv2.findContours(img_dilated, cv2.RETR_EXTERNAL, cv2.CHAIN_APPROX_SIMPLE)\n",
    "\n",
    "# 获取最大的轮廓\n",
    "largest_contour = max(contours, key=cv2.contourArea)\n",
    "# 获取轮廓的外接矩形\n",
    "rect = cv2.minAreaRect(largest_contour)\n",
    "box = cv2.boxPoints(rect)\n",
    "box = np.int0(box)\n",
    "cv2.drawContours(image, [box], 0, (0, 0, 255), 2)\n",
    "# common.show(image,\"矩形框\",cmap=\"gray\",debug=True)\n",
    "\n",
    "# 近似多边形\n",
    "epsilon = 0.1 * cv2.arcLength(largest_contour, True)\n",
    "approx = cv2.approxPolyDP(largest_contour, epsilon, True)\n",
    "cv2.drawContours(image, [approx], -1, (0, 255, 0), 3)\n",
    "common.show(image,\"多边形\",cmap=\"gray\",debug=True)\n",
    "n = []\n",
    "#将三维数组转换为一维的xy数组\n",
    "for x, y in zip(approx[:, 0, 0], approx[:, 0, 1]):\n",
    "    n.append((x, y))\n",
    "print(n)    \n",
    "n = sorted(n)\n",
    "print(n)   \n",
    "sort_point = []\n",
    "#获取x值最小的两个点，也就是最左边的两个点\n",
    "n_point1 = n[:2]\n",
    "#按y值进行排序，就知道哪个是左上角，哪个是左下角\n",
    "n_point1.sort(key=lambda x: x[1])\n",
    "sort_point.extend(n_point1)\n",
    "#将x值比较大的两个点，也就是右边那两个点\n",
    "n_point2 = n[2:4]\n",
    "#按y值进行排序，就知道哪个是右上角，哪个是右下角，注意排序是从小大大\n",
    "n_point2.sort(key=lambda x: x[1])\n",
    "#reverse的话n_point2中y值大的排在前面\n",
    "n_point2.reverse()\n",
    "sort_point.extend(n_point2)\n",
    "#最终p1数组中的点是左上，左下，右下，右上四个点\n",
    "p1 = np.array(sort_point, dtype=np.float32)\n",
    "print(\"sort_point\",sort_point)\n",
    "print(p1)\n",
    "h = sort_point[1][1] - sort_point[0][1]\n",
    "w = sort_point[2][0] - sort_point[1][0]\n",
    "pts2 = np.array([[0, 0], [0, h], [w, h], [w, 0]], dtype=np.float32)\n",
    "\n",
    "# 生成变换矩阵\n",
    "M = cv2.getPerspectiveTransform(p1, pts2)\n",
    "dst = cv2.warpPerspective(image1, M, (width, height))\n",
    "common.show(dst,\"变化图\",cmap=\"gray\",debug=True)\n",
    "ocr = CnOcr(det_model_name='naive_det')  # 所有参数都使用默认值\n",
    "# out = ocr.ocr(dst)\n",
    "out = ocr.ocr_for_single_line(dst)\n",
    "print(out)\n",
    "\n"
   ]
  },
  {
   "cell_type": "code",
   "execution_count": 1,
   "outputs": [],
   "source": [
    "\n"
   ],
   "metadata": {
    "collapsed": false,
    "pycharm": {
     "name": "#%%\n",
     "is_executing": false
    }
   }
  }
 ],
 "metadata": {
  "kernelspec": {
   "display_name": "Python 3",
   "language": "python",
   "name": "python3"
  },
  "language_info": {
   "codemirror_mode": {
    "name": "ipython",
    "version": 2
   },
   "file_extension": ".py",
   "mimetype": "text/x-python",
   "name": "python",
   "nbconvert_exporter": "python",
   "pygments_lexer": "ipython2",
   "version": "2.7.6"
  },
  "pycharm": {
   "stem_cell": {
    "cell_type": "raw",
    "source": [],
    "metadata": {
     "collapsed": false
    }
   }
  }
 },
 "nbformat": 4,
 "nbformat_minor": 0
}