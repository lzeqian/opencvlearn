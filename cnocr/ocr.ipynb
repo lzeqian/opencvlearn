{
 "cells": [
  {
   "cell_type": "code",
   "execution_count": 2,
   "metadata": {
    "collapsed": true,
    "pycharm": {
     "is_executing": false
    }
   },
   "outputs": [
    {
     "name": "stdout",
     "text": [
      "[{'text': '我的世界我做主', 'score': 0.997825026512146}, {'text': '123', 'score': 0.9745810627937317}]\n"
     ],
     "output_type": "stream"
    }
   ],
   "source": [
    "#pip install cnocr\n",
    "from cnocr import CnOcr\n",
    "img_fp = './num.png'\n",
    "ocr = CnOcr(det_model_name='naive_det')  # 所有参数都使用默认值\n",
    "out = ocr.ocr(img_fp)\n",
    "print(out)\n"
   ]
  },
  {
   "cell_type": "code",
   "execution_count": 3,
   "outputs": [
    {
     "name": "stdout",
     "text": [
      "[{'text': '一', 'score': 0.1929994374513626}]\n"
     ],
     "output_type": "stream"
    }
   ],
   "source": [
    "img_fp = '../images/demo.png'\n",
    "ocr = CnOcr(det_model_name='naive_det')  # 所有参数都使用默认值\n",
    "out = ocr.ocr(img_fp)\n",
    "print(out)"
   ],
   "metadata": {
    "collapsed": false,
    "pycharm": {
     "name": "#%%\n",
     "is_executing": false
    }
   }
  },
  {
   "cell_type": "code",
   "execution_count": 4,
   "outputs": [
    {
     "name": "stdout",
     "text": [
      "[{'text': '风', 'score': 0.35260123014450073}]\n"
     ],
     "output_type": "stream"
    }
   ],
   "source": [
    "img_fp = './zm.jpg'\n",
    "ocr = CnOcr(det_model_name='naive_det')  # 所有参数都使用默认值\n",
    "out = ocr.ocr(img_fp)\n",
    "print(out)\n",
    "\n"
   ],
   "metadata": {
    "collapsed": false,
    "pycharm": {
     "name": "#%%\n",
     "is_executing": false
    }
   }
  }
 ],
 "metadata": {
  "kernelspec": {
   "display_name": "Python 3",
   "language": "python",
   "name": "python3"
  },
  "language_info": {
   "codemirror_mode": {
    "name": "ipython",
    "version": 2
   },
   "file_extension": ".py",
   "mimetype": "text/x-python",
   "name": "python",
   "nbconvert_exporter": "python",
   "pygments_lexer": "ipython2",
   "version": "2.7.6"
  },
  "pycharm": {
   "stem_cell": {
    "cell_type": "raw",
    "source": [],
    "metadata": {
     "collapsed": false
    }
   }
  }
 },
 "nbformat": 4,
 "nbformat_minor": 0
}